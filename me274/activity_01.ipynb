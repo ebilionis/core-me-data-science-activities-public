{
 "cells": [
  {
   "cell_type": "code",
   "execution_count": null,
   "metadata": {
    "tags": [
     "hide-input"
    ]
   },
   "outputs": [],
   "source": [
    "import numpy as np\n",
    "import matplotlib.pyplot as plt\n",
    "%matplotlib inline\n",
    "import matplotlib_inline\n",
    "matplotlib_inline.backend_inline.set_matplotlib_formats('svg')\n",
    "import seaborn as sns\n",
    "sns.set_context(\"paper\")\n",
    "sns.set_style(\"ticks\");"
   ]
  },
  {
   "cell_type": "markdown",
   "metadata": {},
   "source": [
    "(me274_01:activity_01)=\n",
    "# ME 274 - Activity 01 - Posting the Speed Limit Sign on a Banked Turn\n",
    "\n",
    "## Instructions\n",
    "\n",
    "+ **How to run this activity on Google Colab:** Just click [here](https://colab.research.google.com/github/ebilionis/core-me-data-science-activities-public/blob/master/me274/activity_01.ipynb) if you are not already there.\n",
    "+ **How to turn this activity in:** Please submit the activity as a regular homework assignment.\n",
    "+ **How to turn the activity to a PDF file:** When you open it on Google Colab, and you are done with your work, just do: File->Print->Save as PDF. Some figures may be misaligned. That's fine.\n",
    "+ **Save your version of the activity on your Google Drive:**\n",
    "Google Colab will delete your work once you close the browser. To save a copy to your Google Drive, do:\n",
    "File->Save a copy in Drive\n",
    "+ **Typing math:** You can use LaTeX to format your math. Double click on any math cell to see the raw LaTeX code. Google Colab can help you do this using generative AI.\n",
    "+ **I don't want to type Latex:** Save your work as PDF, and just write on it on your tablet or print it and write on paper. Take pictures of your work and submit them."
   ]
  },
  {
   "cell_type": "markdown",
   "metadata": {},
   "source": [
    "## Objective\n",
    "\n",
    "You are a West Lafayette city engineer. You are responsible for posting the speed limit sign on a banked turn on a road that you are designing. You need to calculate the maximum speed that a car can travel around the banked turn without slipping.\n",
    "You can do this with dynamics.\n",
    "The problem is that drivers do not necessarily obey the posted speed limit. \n",
    "Some will go faster than the speed limit.\n",
    "Your objective is to decide what speed limit that is safe for most drivers (even those who do not obey the speed limit).\n",
    "You will achieve this goal through the following steps:\n",
    "+ Use dynamics to calculate the maximum speed that a car can travel around the banked turn without slipping.\n",
    "+ Use data from driver feedback signs to quantify the distribution of speeds that drivers choose given a posted speed limit.\n",
    "+ Pick the posted speed limit so that 99\\% of the drivers travel at a safe speed (even those who do not obey the speed limit).\n",
    "\n",
    "## Data Science Learning Components\n",
    "+ Python programming.\n",
    "+ Data visualization.\n",
    "+ Data analysis.\n",
    "+ Data interpretation.\n",
    "\n",
    "## Activity Description\n",
    "\n",
    "A banked turn is a turn or change of direction in which the vehicle banks or inclines, usually towards the inside of the turn. The banked turn is a common feature of highways, railways, and roller coasters. The banked turn allows the vehicle to go around it at a higher speed than would be possible if the road surface was flat.\n",
    "\n",
    "<figure>\n",
    " <img src=\"https://upload.wikimedia.org/wikipedia/commons/thumb/5/5b/Banked_turn.svg/1024px-Banked_turn.svg.png\" width=\"300\" height=\"300\">\n",
    " <figcaption>Visualization of banked turn.</figcaption>\n",
    "</figure>\n",
    "\n",
    "Let $r$ be the radius of the turn and $\\theta$ be the angle of the bank. The bank angle is the angle at which the vehicle is inclined from the horizontal.\n",
    "\n",
    "## Question 1\n",
    "Consider a car with mass $m$ traveling at a constant speed $v$ around the banked turn.\n",
    "Suppose there is no friction between the tires and the road.\n",
    "What is the maximum speed $v$ that the car can travel around the banked turn without slipping?\n",
    "<br><br>\n",
    "**Answer:**\n",
    "*Hand-write or Latex-type your answer here.*\n",
    "<br><br><br><br><br><br><br><br><br><br>"
   ]
  },
  {
   "cell_type": "markdown",
   "metadata": {},
   "source": [
    "## Question 2\n",
    "Plot the maximum speed $v$ as a function of the bank angle $\\theta$ for a car with mass $m = 1000$ kg and radius of turn $r = 100$ m.\n",
    "Your angle $\\theta$ should vary from $0$ to $\\pi/4$ radians.\n",
    "\n",
    "**Guided answer:**"
   ]
  },
  {
   "cell_type": "markdown",
   "metadata": {},
   "source": [
    "We need the acceleration of gravity. Let's get it from the `scipy.constants` library:"
   ]
  },
  {
   "cell_type": "code",
   "execution_count": null,
   "metadata": {},
   "outputs": [],
   "source": [
    "import scipy\n",
    "g = scipy.constants.g\n",
    "print(\"g = {g:.3f} m/s^2\")"
   ]
  },
  {
   "cell_type": "markdown",
   "metadata": {},
   "source": [
    "Let's now define the important variables of the problem:"
   ]
  },
  {
   "cell_type": "code",
   "execution_count": null,
   "metadata": {},
   "outputs": [],
   "source": [
    "# Fill in the numbers from the information given above\n",
    "r = 100 # in meters\n",
    "m = # in kg - Type the number here"
   ]
  },
  {
   "cell_type": "markdown",
   "metadata": {},
   "source": [
    "We write a Python function that calculates the maximum speed $v$ given the radius of the turn $r$ and the bank angle $\\theta$:"
   ]
  },
  {
   "cell_type": "code",
   "execution_count": null,
   "metadata": {},
   "outputs": [],
   "source": [
    "def max_speed(r, theta):\n",
    "    \"\"\"Returns the maximum speed of a car on a banked curve.\n",
    "\n",
    "    Parameters\n",
    "    ----------\n",
    "    r : float\n",
    "        Radius of the curve in meters.\n",
    "    theta : float\n",
    "        Angle of the bank in radians.\n",
    "    \"\"\"\n",
    "    # Fill in the correct formula below\n",
    "    return np.sqrt(g * r * np.tan(theta))"
   ]
  },
  {
   "cell_type": "markdown",
   "metadata": {},
   "source": [
    "You can learn more about Python functions in the [corresponding section of ME 297](https://purduemechanicalengineering.github.io/me-297-intro-to-data-science/lecture05/python-functions.html).\n",
    "You can use this function like this:"
   ]
  },
  {
   "cell_type": "code",
   "execution_count": null,
   "metadata": {},
   "outputs": [],
   "source": [
    "max_speed(100, np.pi/4)"
   ]
  },
  {
   "cell_type": "markdown",
   "metadata": {},
   "source": [
    "We need to make an array with the values of $\\theta$ on which we want to evaluate this function.\n",
    "We will use [Numpy arrays](https://numpy.org/doc/stable/reference/generated/numpy.array.html) for this.\n",
    "If you want to learn more about them, then look at [the corresponding section of ME 297](https://purduemechanicalengineering.github.io/me-297-intro-to-data-science/lecture02/intro.html).\n",
    "They work similarly to Matlab vectors.\n",
    "\n",
    "The following code makes an array of 100 values of $\\theta$ between $0$ and $\\pi/4$ radians:"
   ]
  },
  {
   "cell_type": "code",
   "execution_count": null,
   "metadata": {},
   "outputs": [],
   "source": [
    "thetas = np.linspace(0, np.pi/4, 100)\n",
    "thetas"
   ]
  },
  {
   "cell_type": "markdown",
   "metadata": {},
   "source": [
    "We can evaluate the function `max_speed` on this array of $\\theta$ values:"
   ]
  },
  {
   "cell_type": "code",
   "execution_count": null,
   "metadata": {},
   "outputs": [],
   "source": [
    "max_speeds = max_speed(r, thetas)\n",
    "max_speeds"
   ]
  },
  {
   "cell_type": "markdown",
   "metadata": {},
   "source": [
    "We are ready to do the plot:"
   ]
  },
  {
   "cell_type": "code",
   "execution_count": null,
   "metadata": {},
   "outputs": [],
   "source": [
    "fig, ax = plt.subplots()\n",
    "thetas = np.linspace(0, np.pi/4, 100)\n",
    "ax.plot(thetas, max_speeds)\n",
    "ax.set_xlabel(r\"$\\theta$ (radians)\")\n",
    "ax.set_ylabel(\"Speed (m/s)\")\n",
    "sns.despine(trim=True);"
   ]
  },
  {
   "cell_type": "markdown",
   "metadata": {},
   "source": [
    "## Question 3\n",
    "Plot the maximum speed $v$ as a function of the radius of the turn $r$ for a car with mass $m = 1000$ kg and bank angle $\\theta = 10^\\circ$.\n",
    "Your radius $r$ should vary from $10$ to $500$ m.\n",
    "\n",
    "**Answer:**\n",
    "*Hint: Use the same function as in Question 2, but now the input is the radius of the turn $r$.*"
   ]
  },
  {
   "cell_type": "code",
   "execution_count": null,
   "metadata": {},
   "outputs": [],
   "source": [
    "rs = # Use np.linspace to create an array of radii\n",
    "theta = # The angle in radians\n",
    "max_speeds = # Use the max_speed function to calculate the max speeds\n",
    "\n",
    "fig, ax  = plt.subplots()\n",
    "ax.plot(rs, max_speed(rs, theta))\n",
    "ax.set_xlabel(\"Radius (m)\")\n",
    "ax.set_ylabel(\"Speed (m/s)\")\n",
    "sns.despine(trim=True);"
   ]
  },
  {
   "cell_type": "markdown",
   "metadata": {},
   "source": [
    "## Question 4\n",
    "Plot the contour plot of the maximum speed $v$ as a function of the radius of the turn $r$ and the bank angle $\\theta$ for a car with mass $m = 1000$ kg.\n",
    "The radius $r$ should vary from $10$ to $500$ m, and the bank angle $\\theta$ should range from $0$ to $\\pi/4$ radians.\n",
    "\n",
    "**Guided Answer:**"
   ]
  },
  {
   "cell_type": "markdown",
   "metadata": {},
   "source": [
    "To do a contour plot, you need to specify a grid of points. Let's use the `numpy.meshgrid` function to create a grid of points:"
   ]
  },
  {
   "cell_type": "code",
   "execution_count": null,
   "metadata": {},
   "outputs": [],
   "source": [
    "Rs, Thetas = np.meshgrid(rs, thetas)"
   ]
  },
  {
   "cell_type": "markdown",
   "metadata": {},
   "source": [
    "You will understand the output of `numpy.meshgrid` better if you plot the points:"
   ]
  },
  {
   "cell_type": "code",
   "execution_count": null,
   "metadata": {},
   "outputs": [],
   "source": [
    "fig, ax = plt.subplots()\n",
    "# Plot the grid points\n",
    "ax.scatter(Rs, Thetas, s=1, c=\"k\")\n",
    "ax.set_xlabel(\"Radius (m)\")\n",
    "ax.set_ylabel(r\"$\\theta$ (radians)\")\n",
    "sns.despine(trim=True);"
   ]
  },
  {
   "cell_type": "markdown",
   "metadata": {},
   "source": [
    "So, the dimensions of the grid are $100\\times 100$:"
   ]
  },
  {
   "cell_type": "code",
   "execution_count": null,
   "metadata": {},
   "outputs": [],
   "source": [
    "print(f\"Rs.shape = {Rs.shape}\")\n",
    "print(f\"Thetas.shape = {Thetas.shape}\")"
   ]
  },
  {
   "cell_type": "markdown",
   "metadata": {},
   "source": [
    "And the (i,j)th point of the grid is:"
   ]
  },
  {
   "cell_type": "code",
   "execution_count": null,
   "metadata": {},
   "outputs": [],
   "source": [
    "i = 0\n",
    "j = 5\n",
    "print(f\"Rs[{i}, {j}] = {Rs[i,j]:.3f} m\")\n",
    "print(f\"Thetas[{i}, {j}] = {Thetas[i,j]:.3f} radians\")"
   ]
  },
  {
   "cell_type": "markdown",
   "metadata": {},
   "source": [
    "The next step is to evaluate the function giving the maximum speed $v$ for each point in the grid:"
   ]
  },
  {
   "cell_type": "code",
   "execution_count": null,
   "metadata": {},
   "outputs": [],
   "source": [
    "max_speeds = max_speed(Rs, Thetas)"
   ]
  },
  {
   "cell_type": "markdown",
   "metadata": {},
   "source": [
    "This new matrix has the same dimensions as the grid:"
   ]
  },
  {
   "cell_type": "code",
   "execution_count": null,
   "metadata": {},
   "outputs": [],
   "source": [
    "print(f\"max_speeds.shape = {max_speeds.shape}\")"
   ]
  },
  {
   "cell_type": "markdown",
   "metadata": {},
   "source": [
    "Now, with this information, we can do the contour plot:"
   ]
  },
  {
   "cell_type": "code",
   "execution_count": null,
   "metadata": {},
   "outputs": [],
   "source": [
    "fig, ax = plt.subplots()\n",
    "Rs, Thetas = np.meshgrid(rs, thetas)\n",
    "c = ax.contourf(Rs, Thetas, max_speeds)\n",
    "ax.set_xlabel(\"Radius (m)\")\n",
    "ax.set_ylabel(r\"$\\theta$ (radians)\")\n",
    "ax.set_title(\"Speed (m/s)\")\n",
    "plt.colorbar(c)\n",
    "sns.despine(trim=True);"
   ]
  },
  {
   "cell_type": "markdown",
   "metadata": {},
   "source": [
    "## Question 5\n",
    "Suppose we are in the car and approaching a banked turn.\n",
    "We do not know the radius of the turn $r$ or the bank angle $\\theta$.\n",
    "But we think the radius is between $100$ and $150$ m, and the bank angle is between $5^\\circ$ and $15^\\circ$. We will study how this uncertainty propagates to the maximum speed $v$.\n",
    "\n",
    "**Guide Answer:**"
   ]
  },
  {
   "cell_type": "markdown",
   "metadata": {},
   "source": [
    "The kind of uncertainty we are dealing with is called *epistemic uncertainty*.\n",
    "It is the uncertainty that arises from a lack of knowledge.\n",
    "In this case, we do not precisely know the radius of the turn $r$ or the bank angle $\\theta$.\n",
    "If you want to know more about the various types of uncertainty, you can go over [this page from Lecture 7 of ME 297](https://purduemechanicalengineering.github.io/me-297-intro-to-data-science/lecture07/probability-and-state-of-knowledge.html).\n",
    "\n",
    "We describe uncertainty using probability distributions.\n",
    "In this case, we will use [uniform distributions](https://purduemechanicalengineering.github.io/me-297-intro-to-data-science/lecture10/the-uniform-distribution.html).\n",
    "\n",
    "We write:\n",
    "\n",
    "$$\n",
    "r \\sim \\mathcal{U}(100, 150)\n",
    "$$\n",
    "\n",
    "and we say that $r$ is a random variable that follows a uniform distribution between $100$ and $150$ m.\n",
    "\n",
    "Similarly, we write:\n",
    "\n",
    "$$\n",
    "\\theta \\sim \\mathcal{U}(5^\\circ, 15^\\circ)\n",
    "$$\n",
    "\n",
    "and we say that $\\theta$ is a random variable that follows a uniform distribution between $5^\\circ$ and $15^\\circ$.\n",
    "\n",
    "We will sample $r$ and $\\theta$ from their respective distributions and then calculate each sample's maximum speed $v$.\n",
    "We are doing a [Monte Carlo simulation](https://purduemechanicalengineering.github.io/me-297-intro-to-data-science/lecture07/estimating-probabilities-by-simulation.html).\n",
    "\n",
    "First things first, let's generate some random samples of $r$ and $\\theta$:"
   ]
  },
  {
   "cell_type": "code",
   "execution_count": null,
   "metadata": {},
   "outputs": [],
   "source": [
    "num_samples = 10000\n",
    "r_min = 100 # in meters\n",
    "r_max = 150 # in meters\n",
    "theta_min = 5 * np.pi / 180 # in radians\n",
    "theta_max = 15 * np.pi / 180 # in radians\n",
    "# Generate random radii and angles\n",
    "rs = np.random.uniform(r_min, r_max, num_samples)\n",
    "# Convert degrees to radians for the angles\n",
    "thetas = np.random.uniform(theta_min, theta_max, num_samples)"
   ]
  },
  {
   "cell_type": "markdown",
   "metadata": {},
   "source": [
    "Let's look at the objects we just created.\n",
    "`rs` is a vector:"
   ]
  },
  {
   "cell_type": "code",
   "execution_count": null,
   "metadata": {},
   "outputs": [],
   "source": [
    "print(\"rs.shape = {rs.shape}\")"
   ]
  },
  {
   "cell_type": "markdown",
   "metadata": {},
   "source": [
    "And here are its first 10 elements:"
   ]
  },
  {
   "cell_type": "code",
   "execution_count": null,
   "metadata": {},
   "outputs": [],
   "source": [
    "print(rs[:10])"
   ]
  },
  {
   "cell_type": "markdown",
   "metadata": {},
   "source": [
    "So, these are all numbers between $100$ and $150$ m.\n",
    "They are also *uniformly distributed*.\n",
    "Let's plot a histogram to see the distribution:"
   ]
  },
  {
   "cell_type": "code",
   "execution_count": null,
   "metadata": {},
   "outputs": [],
   "source": [
    "fig, ax = plt.subplots()\n",
    "ax.hist(rs, bins=20, density=True)\n",
    "ax.set_xlabel(\"Radius (m)\")\n",
    "ax.set_ylabel(\"Probability\")\n",
    "sns.despine(trim=True);"
   ]
  },
  {
   "cell_type": "markdown",
   "metadata": {},
   "source": [
    "This histogram is almost uniform, but not quite.\n",
    "If you increase the number of samples, it will get closer to a uniform distribution.\n",
    "\n",
    "Now let's look at the samples of $\\theta$"
   ]
  },
  {
   "cell_type": "code",
   "execution_count": null,
   "metadata": {},
   "outputs": [],
   "source": [
    "# Write the code by modifying the code above\n",
    "fig, ax = plt.subplots()\n",
    "ax.hist(thetas, bins=20, density=True)\n",
    "ax.set_xlabel(r\"$\\theta$ (radians)\")\n",
    "ax.set_ylabel(\"Probability\")\n",
    "sns.despine(trim=True);"
   ]
  },
  {
   "cell_type": "markdown",
   "metadata": {},
   "source": [
    "Now all we have to do is calculate the maximum speed $v$ for each sample:"
   ]
  },
  {
   "cell_type": "code",
   "execution_count": null,
   "metadata": {},
   "outputs": [],
   "source": [
    "# Write the code using the function max_speed. See the previous cells for examples.\n",
    "max_speeds = max_speed(rs, thetas)"
   ]
  },
  {
   "cell_type": "markdown",
   "metadata": {},
   "source": [
    "It is more helpful to do the histogram in kilometers per hour:"
   ]
  },
  {
   "cell_type": "code",
   "execution_count": null,
   "metadata": {},
   "outputs": [],
   "source": [
    "max_speeds_kmh = max_speeds * 3.6"
   ]
  },
  {
   "cell_type": "markdown",
   "metadata": {},
   "source": [
    "And we can do the histogram of the maximum speed $v$:"
   ]
  },
  {
   "cell_type": "code",
   "execution_count": null,
   "metadata": {},
   "outputs": [],
   "source": [
    "# Write the code to plot the histogram of max_speeds\n",
    "fig, ax = plt.subplots()\n",
    "ax.hist(max_speeds_kmh, bins=20, density=True)\n",
    "ax.set_xlabel(\"Speed (km/h)\")\n",
    "ax.set_ylabel(\"Probability\")\n",
    "sns.despine(trim=True);\n"
   ]
  },
  {
   "cell_type": "markdown",
   "metadata": {},
   "source": [
    "We can also summarize this information in a box plot."
   ]
  },
  {
   "cell_type": "code",
   "execution_count": null,
   "metadata": {},
   "outputs": [],
   "source": [
    "fig, ax = plt.subplots()\n",
    "ax.boxplot(max_speeds_kmh)\n",
    "ax.set_ylabel(\"Speed (km/h)\")\n",
    "sns.despine(trim=True);"
   ]
  },
  {
   "cell_type": "markdown",
   "metadata": {},
   "source": [
    "The meaning of the box plot is as follows:\n",
    "\n",
    "* The red line is the median of the data (50\\% of the data are below the median).\n",
    "* The blue box is the interquartile range (IQR). It contains 50% of the data.\n",
    "* The whiskers are the lines extending from the box. They represent the range of the data."
   ]
  },
  {
   "cell_type": "markdown",
   "metadata": {},
   "source": [
    "## Question 6\n",
    "Use your common sense to pick your driving speed. Justify your answer.\n",
    "\n",
    "**Answer:**"
   ]
  },
  {
   "cell_type": "markdown",
   "metadata": {},
   "source": [
    "*Hand-write or Latex-type your answer here.*\n",
    "\n",
    "*A possible answer is:*\n",
    "<br><br><br>"
   ]
  },
  {
   "cell_type": "markdown",
   "metadata": {},
   "source": [
    "## Question 7\n",
    "Use the code from Question 5 to do a Monte Carlo simulation for the radius of the turn $r$ between $150$ and $200$ m and bank angle $\\theta$ between $5^\\circ$ and $15^\\circ$.\n",
    "You can copy and paste the code from Question 5 and change the values of `r_min`, `r_max`, `theta_min`, and `theta_max`.\n",
    "Just show the histogram of the maximum speed $v$.\n",
    "Again, use your common sense to pick your driving speed and justify your answer.\n",
    "\n",
    "**Answer:**"
   ]
  },
  {
   "cell_type": "code",
   "execution_count": null,
   "metadata": {},
   "outputs": [],
   "source": [
    "# Copy-paste the code from the previous cells and modify it"
   ]
  },
  {
   "cell_type": "markdown",
   "metadata": {},
   "source": [
    "*Hand-write or Latex-type your answer here.*\n",
    "<br><br><br>"
   ]
  },
  {
   "cell_type": "markdown",
   "metadata": {},
   "source": [
    "## Question 8\n",
    "\n",
    "Now, we will study the problem of posting a speed limit sign on a banked turn.\n",
    "Suppose we know the radius of curvature is $100$, and the bank angle is $10^\\circ$.\n",
    "We want to pick a speed limit to ensure that $99\\%$ of the cars can negotiate the turn without slipping.\n",
    "To do this, we need to get data on how people behave when they see a speed limit sign.\n",
    "To this end, we will use data from [driver feedback signs installed in Edmonton, Canada](https://data.edmonton.ca/stories/s/byrh-7jdx).\n",
    "\n",
    "The data is in the file `data/Driver_Feedback_Signs_Data.csv` in the GitHub repository of this activity.\n",
    "We will download the data and read it into a Pandas DataFrame.\n",
    "If you want to learn more about Pandas, you can go over [the corresponding section of Lecture 3 of ME 297](https://purduemechanicalengineering.github.io/me-297-intro-to-data-science/lecture03/python-pandas.html)."
   ]
  },
  {
   "cell_type": "code",
   "execution_count": null,
   "metadata": {},
   "outputs": [],
   "source": [
    "# Download the data\n",
    "!curl -O https://raw.githubusercontent.com/ebilionis/core-me-data-science-activities-public/main/data/Driver_Feedback_Sign_Aggregated_Data.csv"
   ]
  },
  {
   "cell_type": "markdown",
   "metadata": {},
   "source": [
    "The data are in a CSV file, which stands for comma-separated values.\n",
    "This is a very common format for data.\n",
    "You can open the file in a text editor to see what it looks like.\n",
    "You can also open it in Excel or Google Sheets.\n",
    "The first few lines of the file look like this:"
   ]
  },
  {
   "cell_type": "code",
   "execution_count": null,
   "metadata": {},
   "outputs": [],
   "source": [
    "!head Driver_Feedback_Sign_Aggregated_Data.csv"
   ]
  },
  {
   "cell_type": "markdown",
   "metadata": {},
   "source": [
    "The first row is the header.\n",
    "It contains the names of the columns.\n",
    "The other rows are the data.\n",
    "Each row corresponds to a different car.\n",
    "\n",
    "Let's read the data into a Pandas DataFrame:"
   ]
  },
  {
   "cell_type": "code",
   "execution_count": null,
   "metadata": {},
   "outputs": [],
   "source": [
    "import pandas as pd\n",
    "df = pd.read_csv(\"Driver_Feedback_Sign_Aggregated_Data.csv\")"
   ]
  },
  {
   "cell_type": "markdown",
   "metadata": {},
   "source": [
    "Here are the first few entries:"
   ]
  },
  {
   "cell_type": "code",
   "execution_count": null,
   "metadata": {},
   "outputs": [],
   "source": [
    "df.head()"
   ]
  },
  {
   "cell_type": "markdown",
   "metadata": {},
   "source": [
    "The total number of entries we have is:"
   ]
  },
  {
   "cell_type": "code",
   "execution_count": null,
   "metadata": {},
   "outputs": [],
   "source": [
    "print(\"df.shape = {df.shape}\")"
   ]
  },
  {
   "cell_type": "markdown",
   "metadata": {},
   "source": [
    "And here are all the different columns we have:"
   ]
  },
  {
   "cell_type": "code",
   "execution_count": null,
   "metadata": {},
   "outputs": [],
   "source": [
    "df.columns"
   ]
  },
  {
   "cell_type": "markdown",
   "metadata": {},
   "source": [
    "We are interested in the `Speed Limit` column.\n",
    "This column contains the speed limit posted on the sign.\n",
    "And we are also interested in the columns like `HI 1 to 5 Over Count`, `HI 6 to 10 Over Count`, etc.\n",
    "These columns contain the number of cars going at a certain speed above the speed limit.\n",
    "For example, `HI 1 to 5 Over Count` is the number of cars going between $1$ and $5$ km/h above the speed limit.\n",
    "We are also interested in `HI 0 to 4 Under Count`, the number of cars going between $0$ and $4$ km/h below the speed limit.\n",
    "\n",
    "We will extract for each speed limit the number of cars that were going at a certain speed above the speed limit and the number of vehicles that were going at a certain speed below the speed limit.\n",
    "We will then use this information to estimate the probability distribution of the speed of the cars given the speed limit.\n",
    "\n",
    "Let's do this first for a speed limit of $50$ km/h.\n",
    "The following line of code selects the rows of the DataFrame that correspond to a speed limit of $50$ km/h:"
   ]
  },
  {
   "cell_type": "code",
   "execution_count": null,
   "metadata": {},
   "outputs": [],
   "source": [
    "df_50 = df[df[\"Speed Limit\"] == 50]\n",
    "df_50.head()"
   ]
  },
  {
   "cell_type": "markdown",
   "metadata": {},
   "source": [
    "Now, let's select the columns we are interested in.\n",
    "We will organize everything in a function that we can call later for any speed limit:"
   ]
  },
  {
   "cell_type": "code",
   "execution_count": null,
   "metadata": {},
   "outputs": [],
   "source": [
    "# This is a dictionary that maps the bin names to the bin centers (except the last one of course)\n",
    "bins = {\n",
    "    'HI 5 to 9 Under Count': -7.0,\n",
    "    'HI 0 to 4 Under Count': -2.0,\n",
    "    'HI 1 to 5 Over Count': 3.0,\n",
    "    'HI 6 to 10 Over Count': 8.0,\n",
    "    'HI 11 to 15 Over Count': 13.0,\n",
    "    'HI 16 to 20 Over Count': 18.0,\n",
    "    'HI 21 to 25 Over Count': 23.0,\n",
    "    'HI 26 to 30 Over Count': 28.0,\n",
    "    'HI 31+ Over Count': 33.0\n",
    "}\n",
    "\n",
    "# This is a function that takes the speed limit and returns the corresponding bin center and \n",
    "# the frequency of that bin\n",
    "def get_bin_center_and_frequency(speed_limit):\n",
    "    \"\"\"Returns the bin centers and frequencies for a given speed limit.\n",
    "\n",
    "    Parameters\n",
    "    ----------\n",
    "    speed_limit : int\n",
    "        The speed limit.\n",
    "    \"\"\"\n",
    "    # Get the corresponding row in the dataframe\n",
    "    df_speed = df[df[\"Speed Limit\"] == speed_limit]\n",
    "    bin_centers = []\n",
    "    frequencies = []\n",
    "    for bin_name, bin_center in bins.items():\n",
    "        bin_centers.append(bin_center + speed_limit)\n",
    "        counts = df_speed[bin_name].values.sum()\n",
    "        frequencies.append(counts)\n",
    "    return np.array(bin_centers), np.array(frequencies) / np.sum(frequencies)"
   ]
  },
  {
   "cell_type": "markdown",
   "metadata": {},
   "source": [
    "Here is how this works:"
   ]
  },
  {
   "cell_type": "code",
   "execution_count": null,
   "metadata": {},
   "outputs": [],
   "source": [
    "bin_centers, frequencies = get_bin_center_and_frequency(50)\n",
    "print(bin_centers)\n",
    "print(frequencies)"
   ]
  },
  {
   "cell_type": "markdown",
   "metadata": {},
   "source": [
    "Let's plot it:"
   ]
  },
  {
   "cell_type": "code",
   "execution_count": null,
   "metadata": {},
   "outputs": [],
   "source": [
    "fig, ax = plt.subplots()\n",
    "ax.bar(bin_centers, frequencies, label=\"Recorded speeds for speed Limit = 50 km/h\")\n",
    "ax.plot([50, 50], [0, 0.5], \"k--\", label=\"Speed limit\")\n",
    "ax.set_xlabel(\"Speed (km/h)\")\n",
    "ax.set_ylabel(\"Probability\")\n",
    "plt.legend(frameon=False)\n",
    "sns.despine(trim=True);"
   ]
  },
  {
   "cell_type": "markdown",
   "metadata": {},
   "source": [
    "So, you see that people will go above the speed limit.\n",
    "Let's calculate what percentage of the cars will exceed the speed limit.\n",
    "We must sum all the frequencies corresponding to bin centers above $50$ km/h.\n",
    "\n",
    "Here are the bin centers above $50$ km/h:"
   ]
  },
  {
   "cell_type": "code",
   "execution_count": null,
   "metadata": {},
   "outputs": [],
   "source": [
    "bin_centers > 50"
   ]
  },
  {
   "cell_type": "markdown",
   "metadata": {},
   "source": [
    "And here is how to extract and sum the frequencies:"
   ]
  },
  {
   "cell_type": "code",
   "execution_count": null,
   "metadata": {},
   "outputs": [],
   "source": [
    "prob_above_50 = np.sum(frequencies[bin_centers > 50])\n",
    "print(\"Probability of being above 50 km/h = {prob_above_50:.3f}\")"
   ]
  },
  {
   "cell_type": "markdown",
   "metadata": {},
   "source": [
    "Now you can answer some questions.\n",
    "\n",
    "## Question 9\n",
    "Repeat the analysis above for a speed limit of $60$ km/h.\n",
    "\n",
    "**Answer:**"
   ]
  },
  {
   "cell_type": "code",
   "execution_count": null,
   "metadata": {},
   "outputs": [],
   "source": [
    "# Copy-paste the code from the previous cells and modify it"
   ]
  },
  {
   "cell_type": "markdown",
   "metadata": {},
   "source": [
    "## Question 10\n",
    "\n",
    "You are now responsible for posting the speed limit sign on a banked turn.\n",
    "You know that the radius of curvature is $200$ m, and the bank angle is $10^\\circ$.\n",
    "What speed limit should you post so that about $99\\%$ of the cars can negotiate the turn without slipping?\n",
    "\n",
    "**Answer:**"
   ]
  },
  {
   "cell_type": "code",
   "execution_count": null,
   "metadata": {},
   "outputs": [],
   "source": [
    "# Use as many code and text cells as you need\n",
    "# Use code from the previous questions as needed"
   ]
  }
 ],
 "metadata": {
  "kernelspec": {
   "display_name": "Python 3",
   "language": "python",
   "name": "python3"
  },
  "language_info": {
   "codemirror_mode": {
    "name": "ipython",
    "version": 3
   },
   "file_extension": ".py",
   "mimetype": "text/x-python",
   "name": "python",
   "nbconvert_exporter": "python",
   "pygments_lexer": "ipython3",
   "version": "3.11.3"
  },
  "orig_nbformat": 4
 },
 "nbformat": 4,
 "nbformat_minor": 2
}
